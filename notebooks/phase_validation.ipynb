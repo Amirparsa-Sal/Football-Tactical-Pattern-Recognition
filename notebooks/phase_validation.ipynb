{
 "cells": [
  {
   "cell_type": "code",
   "execution_count": 1,
   "metadata": {},
   "outputs": [],
   "source": [
    "from ftpr.dataloader import load_phases\n",
    "from ftpr.visualization import PhaseVisualizer\n",
    "from ftpr.clustering import PhaseClustering\n",
    "import pandas as pd\n",
    "import numpy as np\n",
    "from mplsoccer import Pitch\n",
    "from scipy.ndimage import gaussian_filter\n",
    "import matplotlib.pyplot as plt\n",
    "from collections import Counter"
   ]
  },
  {
   "cell_type": "code",
   "execution_count": 2,
   "metadata": {},
   "outputs": [],
   "source": [
    "team = 'Manchester City'\n",
    "df = pd.read_csv(f'../data/team_phases/{team}.csv')\n",
    "phases = load_phases(df, filter_static_events=True, min_phase_length=3, n_jobs=5)"
   ]
  },
  {
   "cell_type": "code",
   "execution_count": 3,
   "metadata": {},
   "outputs": [
    {
     "data": {
      "text/plain": [
       "4849"
      ]
     },
     "execution_count": 3,
     "metadata": {},
     "output_type": "execute_result"
    }
   ],
   "source": [
    "len(phases)"
   ]
  },
  {
   "cell_type": "code",
   "execution_count": 4,
   "metadata": {},
   "outputs": [
    {
     "data": {
      "text/plain": [
       "'00:00:17.793'"
      ]
     },
     "execution_count": 4,
     "metadata": {},
     "output_type": "execute_result"
    }
   ],
   "source": [
    "phases[0]._df['timestamp'][0]"
   ]
  },
  {
   "cell_type": "code",
   "execution_count": 5,
   "metadata": {},
   "outputs": [
    {
     "data": {
      "text/plain": [
       "1"
      ]
     },
     "execution_count": 5,
     "metadata": {},
     "output_type": "execute_result"
    }
   ],
   "source": [
    "a = pd.Timestamp(phases[0]._df['timestamp'][0])\n",
    "b = pd.Timestamp(phases[0]._df['timestamp'][1])\n",
    "(b - a).seconds"
   ]
  },
  {
   "cell_type": "code",
   "execution_count": 6,
   "metadata": {},
   "outputs": [],
   "source": [
    "ids = []\n",
    "col_index = phases[0]._df.columns.get_loc('timestamp')\n",
    "\n",
    "for id, phase in enumerate(phases):\n",
    "    for i in range(1, len(phase) - 1):\n",
    "        # print(phase._df['timestamp'])\n",
    "        a = pd.Timestamp(phase._df.iloc[i, col_index])\n",
    "        b = pd.Timestamp(phase._df.iloc[i + 1, col_index])\n",
    "        if (b - a).seconds >= 10:\n",
    "                        ids.append(id)\n",
    "                        break"
   ]
  },
  {
   "cell_type": "code",
   "execution_count": 7,
   "metadata": {},
   "outputs": [
    {
     "data": {
      "text/plain": [
       "203"
      ]
     },
     "execution_count": 7,
     "metadata": {},
     "output_type": "execute_result"
    }
   ],
   "source": [
    "ids[0]"
   ]
  },
  {
   "cell_type": "code",
   "execution_count": 8,
   "metadata": {},
   "outputs": [
    {
     "data": {
      "text/html": [
       "<div>\n",
       "<style scoped>\n",
       "    .dataframe tbody tr th:only-of-type {\n",
       "        vertical-align: middle;\n",
       "    }\n",
       "\n",
       "    .dataframe tbody tr th {\n",
       "        vertical-align: top;\n",
       "    }\n",
       "\n",
       "    .dataframe thead th {\n",
       "        text-align: right;\n",
       "    }\n",
       "</style>\n",
       "<table border=\"1\" class=\"dataframe\">\n",
       "  <thead>\n",
       "    <tr style=\"text-align: right;\">\n",
       "      <th></th>\n",
       "      <th>Unnamed: 0</th>\n",
       "      <th>ball_receipt_outcome</th>\n",
       "      <th>carry_end_location</th>\n",
       "      <th>dribble_outcome</th>\n",
       "      <th>id</th>\n",
       "      <th>index</th>\n",
       "      <th>location</th>\n",
       "      <th>match_id</th>\n",
       "      <th>out</th>\n",
       "      <th>pass_angle</th>\n",
       "      <th>...</th>\n",
       "      <th>shot_statsbomb_xg</th>\n",
       "      <th>shot_type</th>\n",
       "      <th>tactics</th>\n",
       "      <th>team</th>\n",
       "      <th>team_id</th>\n",
       "      <th>timestamp</th>\n",
       "      <th>type</th>\n",
       "      <th>foul_won_penalty</th>\n",
       "      <th>pass_goal_assist</th>\n",
       "      <th>phase_id</th>\n",
       "    </tr>\n",
       "  </thead>\n",
       "  <tbody>\n",
       "    <tr>\n",
       "      <th>2812</th>\n",
       "      <td>3412</td>\n",
       "      <td>NaN</td>\n",
       "      <td>NaN</td>\n",
       "      <td>NaN</td>\n",
       "      <td>0c07ff13-3b59-46a3-a658-8198c6b45dec</td>\n",
       "      <td>2488</td>\n",
       "      <td>[4.8, 62.5]</td>\n",
       "      <td>3754015</td>\n",
       "      <td>NaN</td>\n",
       "      <td>NaN</td>\n",
       "      <td>...</td>\n",
       "      <td>NaN</td>\n",
       "      <td>NaN</td>\n",
       "      <td>NaN</td>\n",
       "      <td>Manchester City</td>\n",
       "      <td>36</td>\n",
       "      <td>00:14:09.118</td>\n",
       "      <td>Block</td>\n",
       "      <td>NaN</td>\n",
       "      <td>NaN</td>\n",
       "      <td>670</td>\n",
       "    </tr>\n",
       "    <tr>\n",
       "      <th>2813</th>\n",
       "      <td>3510</td>\n",
       "      <td>NaN</td>\n",
       "      <td>NaN</td>\n",
       "      <td>NaN</td>\n",
       "      <td>5dfe4b79-d9d6-4a46-802b-93f0c09aced3</td>\n",
       "      <td>2489</td>\n",
       "      <td>[1.9, 43.9]</td>\n",
       "      <td>3754015</td>\n",
       "      <td>NaN</td>\n",
       "      <td>NaN</td>\n",
       "      <td>...</td>\n",
       "      <td>NaN</td>\n",
       "      <td>NaN</td>\n",
       "      <td>NaN</td>\n",
       "      <td>Manchester City</td>\n",
       "      <td>36</td>\n",
       "      <td>00:14:10.303</td>\n",
       "      <td>Ball Recovery</td>\n",
       "      <td>NaN</td>\n",
       "      <td>NaN</td>\n",
       "      <td>670</td>\n",
       "    </tr>\n",
       "    <tr>\n",
       "      <th>2814</th>\n",
       "      <td>2537</td>\n",
       "      <td>NaN</td>\n",
       "      <td>[16.1, 36.8]</td>\n",
       "      <td>NaN</td>\n",
       "      <td>68619711-0b70-4588-adf6-96867ac574ce</td>\n",
       "      <td>2490</td>\n",
       "      <td>[1.9, 43.9]</td>\n",
       "      <td>3754015</td>\n",
       "      <td>NaN</td>\n",
       "      <td>NaN</td>\n",
       "      <td>...</td>\n",
       "      <td>NaN</td>\n",
       "      <td>NaN</td>\n",
       "      <td>NaN</td>\n",
       "      <td>Manchester City</td>\n",
       "      <td>36</td>\n",
       "      <td>00:14:10.303</td>\n",
       "      <td>Carry</td>\n",
       "      <td>NaN</td>\n",
       "      <td>NaN</td>\n",
       "      <td>670</td>\n",
       "    </tr>\n",
       "    <tr>\n",
       "      <th>2815</th>\n",
       "      <td>710</td>\n",
       "      <td>NaN</td>\n",
       "      <td>NaN</td>\n",
       "      <td>NaN</td>\n",
       "      <td>45b0d3d4-f735-4228-96c8-219979b1e85d</td>\n",
       "      <td>2491</td>\n",
       "      <td>[16.1, 36.8]</td>\n",
       "      <td>3754015</td>\n",
       "      <td>NaN</td>\n",
       "      <td>-0.374469</td>\n",
       "      <td>...</td>\n",
       "      <td>NaN</td>\n",
       "      <td>NaN</td>\n",
       "      <td>NaN</td>\n",
       "      <td>Manchester City</td>\n",
       "      <td>36</td>\n",
       "      <td>00:14:25.799</td>\n",
       "      <td>Pass</td>\n",
       "      <td>NaN</td>\n",
       "      <td>NaN</td>\n",
       "      <td>670</td>\n",
       "    </tr>\n",
       "  </tbody>\n",
       "</table>\n",
       "<p>4 rows × 41 columns</p>\n",
       "</div>"
      ],
      "text/plain": [
       "      Unnamed: 0  ball_receipt_outcome carry_end_location dribble_outcome  \\\n",
       "2812        3412                   NaN                NaN             NaN   \n",
       "2813        3510                   NaN                NaN             NaN   \n",
       "2814        2537                   NaN       [16.1, 36.8]             NaN   \n",
       "2815         710                   NaN                NaN             NaN   \n",
       "\n",
       "                                        id  index      location  match_id  \\\n",
       "2812  0c07ff13-3b59-46a3-a658-8198c6b45dec   2488   [4.8, 62.5]   3754015   \n",
       "2813  5dfe4b79-d9d6-4a46-802b-93f0c09aced3   2489   [1.9, 43.9]   3754015   \n",
       "2814  68619711-0b70-4588-adf6-96867ac574ce   2490   [1.9, 43.9]   3754015   \n",
       "2815  45b0d3d4-f735-4228-96c8-219979b1e85d   2491  [16.1, 36.8]   3754015   \n",
       "\n",
       "      out  pass_angle  ... shot_statsbomb_xg shot_type tactics  \\\n",
       "2812  NaN         NaN  ...               NaN       NaN     NaN   \n",
       "2813  NaN         NaN  ...               NaN       NaN     NaN   \n",
       "2814  NaN         NaN  ...               NaN       NaN     NaN   \n",
       "2815  NaN   -0.374469  ...               NaN       NaN     NaN   \n",
       "\n",
       "                 team  team_id     timestamp           type  foul_won_penalty  \\\n",
       "2812  Manchester City       36  00:14:09.118          Block               NaN   \n",
       "2813  Manchester City       36  00:14:10.303  Ball Recovery               NaN   \n",
       "2814  Manchester City       36  00:14:10.303          Carry               NaN   \n",
       "2815  Manchester City       36  00:14:25.799           Pass               NaN   \n",
       "\n",
       "     pass_goal_assist phase_id  \n",
       "2812              NaN      670  \n",
       "2813              NaN      670  \n",
       "2814              NaN      670  \n",
       "2815              NaN      670  \n",
       "\n",
       "[4 rows x 41 columns]"
      ]
     },
     "execution_count": 8,
     "metadata": {},
     "output_type": "execute_result"
    }
   ],
   "source": [
    "phases[ids[2]]._df"
   ]
  },
  {
   "cell_type": "code",
   "execution_count": 9,
   "metadata": {},
   "outputs": [
    {
     "data": {
      "text/html": [
       "<div>\n",
       "<style scoped>\n",
       "    .dataframe tbody tr th:only-of-type {\n",
       "        vertical-align: middle;\n",
       "    }\n",
       "\n",
       "    .dataframe tbody tr th {\n",
       "        vertical-align: top;\n",
       "    }\n",
       "\n",
       "    .dataframe thead th {\n",
       "        text-align: right;\n",
       "    }\n",
       "</style>\n",
       "<table border=\"1\" class=\"dataframe\">\n",
       "  <thead>\n",
       "    <tr style=\"text-align: right;\">\n",
       "      <th></th>\n",
       "      <th>Unnamed: 0</th>\n",
       "      <th>ball_receipt_outcome</th>\n",
       "      <th>carry_end_location</th>\n",
       "      <th>dribble_outcome</th>\n",
       "      <th>id</th>\n",
       "      <th>index</th>\n",
       "      <th>location</th>\n",
       "      <th>match_id</th>\n",
       "      <th>out</th>\n",
       "      <th>pass_angle</th>\n",
       "      <th>...</th>\n",
       "      <th>shot_statsbomb_xg</th>\n",
       "      <th>shot_type</th>\n",
       "      <th>tactics</th>\n",
       "      <th>team</th>\n",
       "      <th>team_id</th>\n",
       "      <th>timestamp</th>\n",
       "      <th>type</th>\n",
       "      <th>foul_won_penalty</th>\n",
       "      <th>pass_goal_assist</th>\n",
       "      <th>phase_id</th>\n",
       "    </tr>\n",
       "  </thead>\n",
       "  <tbody>\n",
       "    <tr>\n",
       "      <th>2425</th>\n",
       "      <td>3446</td>\n",
       "      <td>NaN</td>\n",
       "      <td>NaN</td>\n",
       "      <td>NaN</td>\n",
       "      <td>80736b03-3fe1-4741-b5ac-0385d767796a</td>\n",
       "      <td>619</td>\n",
       "      <td>[15.3, 46.4]</td>\n",
       "      <td>3754015</td>\n",
       "      <td>NaN</td>\n",
       "      <td>NaN</td>\n",
       "      <td>...</td>\n",
       "      <td>NaN</td>\n",
       "      <td>NaN</td>\n",
       "      <td>NaN</td>\n",
       "      <td>Manchester City</td>\n",
       "      <td>36</td>\n",
       "      <td>00:15:09.913</td>\n",
       "      <td>Ball Recovery</td>\n",
       "      <td>NaN</td>\n",
       "      <td>NaN</td>\n",
       "      <td>556</td>\n",
       "    </tr>\n",
       "    <tr>\n",
       "      <th>2426</th>\n",
       "      <td>2120</td>\n",
       "      <td>NaN</td>\n",
       "      <td>[21.1, 49.7]</td>\n",
       "      <td>NaN</td>\n",
       "      <td>06911d3e-ea85-4146-a3bc-a225611513b9</td>\n",
       "      <td>620</td>\n",
       "      <td>[15.3, 46.4]</td>\n",
       "      <td>3754015</td>\n",
       "      <td>NaN</td>\n",
       "      <td>NaN</td>\n",
       "      <td>...</td>\n",
       "      <td>NaN</td>\n",
       "      <td>NaN</td>\n",
       "      <td>NaN</td>\n",
       "      <td>Manchester City</td>\n",
       "      <td>36</td>\n",
       "      <td>00:15:09.913</td>\n",
       "      <td>Carry</td>\n",
       "      <td>NaN</td>\n",
       "      <td>NaN</td>\n",
       "      <td>556</td>\n",
       "    </tr>\n",
       "    <tr>\n",
       "      <th>2427</th>\n",
       "      <td>194</td>\n",
       "      <td>NaN</td>\n",
       "      <td>NaN</td>\n",
       "      <td>NaN</td>\n",
       "      <td>0f79bb60-6944-4f90-a1ff-c5b2823a3e82</td>\n",
       "      <td>621</td>\n",
       "      <td>[21.1, 49.7]</td>\n",
       "      <td>3754015</td>\n",
       "      <td>NaN</td>\n",
       "      <td>-0.120490</td>\n",
       "      <td>...</td>\n",
       "      <td>NaN</td>\n",
       "      <td>NaN</td>\n",
       "      <td>NaN</td>\n",
       "      <td>Manchester City</td>\n",
       "      <td>36</td>\n",
       "      <td>00:15:11.033</td>\n",
       "      <td>Pass</td>\n",
       "      <td>NaN</td>\n",
       "      <td>NaN</td>\n",
       "      <td>556</td>\n",
       "    </tr>\n",
       "    <tr>\n",
       "      <th>2428</th>\n",
       "      <td>195</td>\n",
       "      <td>NaN</td>\n",
       "      <td>NaN</td>\n",
       "      <td>NaN</td>\n",
       "      <td>56a62dd3-d483-4703-b53a-4e724cd0447a</td>\n",
       "      <td>623</td>\n",
       "      <td>[43.4, 47.0]</td>\n",
       "      <td>3754015</td>\n",
       "      <td>NaN</td>\n",
       "      <td>-1.156289</td>\n",
       "      <td>...</td>\n",
       "      <td>NaN</td>\n",
       "      <td>NaN</td>\n",
       "      <td>NaN</td>\n",
       "      <td>Manchester City</td>\n",
       "      <td>36</td>\n",
       "      <td>00:15:12.823</td>\n",
       "      <td>Pass</td>\n",
       "      <td>NaN</td>\n",
       "      <td>NaN</td>\n",
       "      <td>556</td>\n",
       "    </tr>\n",
       "    <tr>\n",
       "      <th>2429</th>\n",
       "      <td>2121</td>\n",
       "      <td>NaN</td>\n",
       "      <td>[51.8, 30.2]</td>\n",
       "      <td>NaN</td>\n",
       "      <td>06048165-c961-4fce-862c-6bff25711a1d</td>\n",
       "      <td>625</td>\n",
       "      <td>[52.2, 27.0]</td>\n",
       "      <td>3754015</td>\n",
       "      <td>NaN</td>\n",
       "      <td>NaN</td>\n",
       "      <td>...</td>\n",
       "      <td>NaN</td>\n",
       "      <td>NaN</td>\n",
       "      <td>NaN</td>\n",
       "      <td>Manchester City</td>\n",
       "      <td>36</td>\n",
       "      <td>00:15:14.663</td>\n",
       "      <td>Carry</td>\n",
       "      <td>NaN</td>\n",
       "      <td>NaN</td>\n",
       "      <td>556</td>\n",
       "    </tr>\n",
       "  </tbody>\n",
       "</table>\n",
       "<p>5 rows × 41 columns</p>\n",
       "</div>"
      ],
      "text/plain": [
       "      Unnamed: 0  ball_receipt_outcome carry_end_location dribble_outcome  \\\n",
       "2425        3446                   NaN                NaN             NaN   \n",
       "2426        2120                   NaN       [21.1, 49.7]             NaN   \n",
       "2427         194                   NaN                NaN             NaN   \n",
       "2428         195                   NaN                NaN             NaN   \n",
       "2429        2121                   NaN       [51.8, 30.2]             NaN   \n",
       "\n",
       "                                        id  index      location  match_id  \\\n",
       "2425  80736b03-3fe1-4741-b5ac-0385d767796a    619  [15.3, 46.4]   3754015   \n",
       "2426  06911d3e-ea85-4146-a3bc-a225611513b9    620  [15.3, 46.4]   3754015   \n",
       "2427  0f79bb60-6944-4f90-a1ff-c5b2823a3e82    621  [21.1, 49.7]   3754015   \n",
       "2428  56a62dd3-d483-4703-b53a-4e724cd0447a    623  [43.4, 47.0]   3754015   \n",
       "2429  06048165-c961-4fce-862c-6bff25711a1d    625  [52.2, 27.0]   3754015   \n",
       "\n",
       "      out  pass_angle  ... shot_statsbomb_xg shot_type tactics  \\\n",
       "2425  NaN         NaN  ...               NaN       NaN     NaN   \n",
       "2426  NaN         NaN  ...               NaN       NaN     NaN   \n",
       "2427  NaN   -0.120490  ...               NaN       NaN     NaN   \n",
       "2428  NaN   -1.156289  ...               NaN       NaN     NaN   \n",
       "2429  NaN         NaN  ...               NaN       NaN     NaN   \n",
       "\n",
       "                 team  team_id     timestamp           type  foul_won_penalty  \\\n",
       "2425  Manchester City       36  00:15:09.913  Ball Recovery               NaN   \n",
       "2426  Manchester City       36  00:15:09.913          Carry               NaN   \n",
       "2427  Manchester City       36  00:15:11.033           Pass               NaN   \n",
       "2428  Manchester City       36  00:15:12.823           Pass               NaN   \n",
       "2429  Manchester City       36  00:15:14.663          Carry               NaN   \n",
       "\n",
       "     pass_goal_assist phase_id  \n",
       "2425              NaN      556  \n",
       "2426              NaN      556  \n",
       "2427              NaN      556  \n",
       "2428              NaN      556  \n",
       "2429              NaN      556  \n",
       "\n",
       "[5 rows x 41 columns]"
      ]
     },
     "execution_count": 9,
     "metadata": {},
     "output_type": "execute_result"
    }
   ],
   "source": [
    "phase = phases[300]\n",
    "phase._df"
   ]
  },
  {
   "cell_type": "code",
   "execution_count": 10,
   "metadata": {},
   "outputs": [],
   "source": [
    "events_config = {\n",
    "    'Pass': {\n",
    "        'color': '#00ffff'\n",
    "    },\n",
    "    'Carry': {\n",
    "        'color': '#00aa00',\n",
    "        'dashed': True\n",
    "    },\n",
    "    'Shot': {\n",
    "        'color': '#aa0000'\n",
    "    } \n",
    "}"
   ]
  },
  {
   "cell_type": "code",
   "execution_count": 11,
   "metadata": {},
   "outputs": [],
   "source": [
    "location_columns = ['location', 'pass_end_location', 'carry_end_location', 'shot_end_location']"
   ]
  },
  {
   "cell_type": "code",
   "execution_count": 12,
   "metadata": {},
   "outputs": [
    {
     "data": {
      "text/plain": [
       "(<Figure size 1600x1100 with 1 Axes>, <Axes: >)"
      ]
     },
     "execution_count": 12,
     "metadata": {},
     "output_type": "execute_result"
    },
    {
     "data": {
      "image/png": "[encoded data removed]",
      "text/plain": [
       "<Figure size 1600x1100 with 1 Axes>"
      ]
     },
     "metadata": {},
     "output_type": "display_data"
    }
   ],
   "source": [
    "vis = PhaseVisualizer((16, 11))\n",
    "phase = phase.split_locations(location_columns)\n",
    "vis.plot_phase(phase, events_config=events_config)"
   ]
  },
  {
   "cell_type": "code",
   "execution_count": 13,
   "metadata": {},
   "outputs": [
    {
     "data": {
      "text/plain": [
       "[[15.3, 46.4], [21.1, 49.7], [43.4, 47.0], [52.2, 27.0], [51.8, 30.2]]"
      ]
     },
     "execution_count": 13,
     "metadata": {},
     "output_type": "execute_result"
    }
   ],
   "source": [
    "series = phase.get_location_series(remove_duplicates=True)\n",
    "series"
   ]
  },
  {
   "cell_type": "code",
   "execution_count": 14,
   "metadata": {},
   "outputs": [],
   "source": [
    "def get_bin(x, y):\n",
    "    return x // 4, y // 4\n",
    "\n",
    "def get_bin_center(bin_x, bin_y):\n",
    "    return bin_x * 4 + 2, bin_y * 4 + 2"
   ]
  },
  {
   "cell_type": "code",
   "execution_count": 15,
   "metadata": {},
   "outputs": [],
   "source": [
    "def get_interpolated_series(series):\n",
    "\tassert len(series) >= 2\n",
    "\tresult = [series[0], series[1]]\n",
    "\ti = 1\n",
    "\tj = 2\n",
    "\twhile j < len(series):\n",
    "\t\tthis_bin = get_bin(result[i][0], result[i][1])\n",
    "\t\tprev_bin = get_bin(result[i-1][0], result[i-1][1])\n",
    "\t\tif abs(this_bin[0] - prev_bin[0]) > 1 or abs(this_bin[1] - prev_bin[1]) > 1:\n",
    "\t\t\tmid_point = [(result[i-1][0] + result[i][0]) / 2, (result[i-1][1] + result[i][1])/2]\n",
    "\t\t\tresult.insert(i, mid_point)\n",
    "\t\telse:\n",
    "\t\t\ti += 1\n",
    "\t\t\tif i == len(result):\n",
    "\t\t\t\tresult.append(series[j])\n",
    "\t\t\t\tj += 1\n",
    "\treturn result"
   ]
  },
  {
   "cell_type": "code",
   "execution_count": 16,
   "metadata": {},
   "outputs": [
    {
     "data": {
      "text/plain": [
       "[[15.3, 46.4],\n",
       " [18.200000000000003, 48.05],\n",
       " [21.1, 49.7],\n",
       " [26.675, 49.025000000000006],\n",
       " [29.4625, 48.6875],\n",
       " [32.25, 48.35],\n",
       " [37.825, 47.675],\n",
       " [43.4, 47.0],\n",
       " [45.599999999999994, 42.0],\n",
       " [47.8, 37.0],\n",
       " [50.0, 32.0],\n",
       " [51.1, 29.5],\n",
       " [52.2, 27.0],\n",
       " [51.8, 30.2]]"
      ]
     },
     "execution_count": 16,
     "metadata": {},
     "output_type": "execute_result"
    }
   ],
   "source": [
    "new_series = get_interpolated_series(series)\n",
    "new_series"
   ]
  },
  {
   "cell_type": "code",
   "execution_count": 17,
   "metadata": {},
   "outputs": [
    {
     "data": {
      "image/png": "[encoded data removed]",
      "text/plain": [
       "<Figure size 660x412.5 with 2 Axes>"
      ]
     },
     "metadata": {},
     "output_type": "display_data"
    }
   ],
   "source": [
    "x = [t[0] for t in new_series]\n",
    "y = [t[1] for t in new_series]\n",
    "\n",
    "pitch = Pitch(pitch_type='statsbomb', line_zorder=2,\n",
    "              pitch_color='#22312b', line_color='#efefef')\n",
    "\n",
    "fig, ax = pitch.draw(figsize=(6.6, 4.125))\n",
    "fig.set_facecolor('#22312b')\n",
    "bin_statistic = pitch.bin_statistic(x, y, statistic='count', bins=(120 // 4, 80 // 4))\n",
    "# bin_statistic['statistic'] = gaussian_filter(bin_statistic['statistic'], 1)\n",
    "pcm = pitch.heatmap(bin_statistic, ax=ax, cmap='hot', edgecolors='#22312b')\n",
    "cbar = fig.colorbar(pcm, ax=ax, shrink=0.6)\n",
    "cbar.outline.set_edgecolor('#efefef')\n",
    "cbar.ax.yaxis.set_tick_params(color='#efefef')\n",
    "ticks = plt.setp(plt.getp(cbar.ax.axes, 'yticklabels'), color='#efefef')"
   ]
  },
  {
   "cell_type": "code",
   "execution_count": 18,
   "metadata": {},
   "outputs": [],
   "source": [
    "n_clusters = 100\n",
    "pc = PhaseClustering(phases)\n",
    "cls_pred, clustering = pc.agglomerative_fit(n_clusters=n_clusters, metric='dtw')"
   ]
  },
  {
   "cell_type": "code",
   "execution_count": 19,
   "metadata": {},
   "outputs": [],
   "source": [
    "cluster_score = [0 for _ in range(n_clusters)]\n",
    "cluster_dist = []\n",
    "for cluster_id in range(n_clusters):\n",
    "\tphases_in_cluster = pc.get_cluster_phases(cluster_id)\n",
    "\tcluster_dist.append(len(phases_in_cluster))\n",
    "\tfor phase in phases_in_cluster:\n",
    "\t\tcluster_score[cluster_id] += Counter(phase['type']).get('Shot', 0)\n",
    "cluster_score = np.array(cluster_score)\n",
    "best_cluster_indeces = np.argsort(cluster_score)[::-1]"
   ]
  },
  {
   "cell_type": "code",
   "execution_count": 20,
   "metadata": {},
   "outputs": [
    {
     "data": {
      "text/plain": [
       "35"
      ]
     },
     "execution_count": 20,
     "metadata": {},
     "output_type": "execute_result"
    }
   ],
   "source": [
    "best_cluster_indeces[0]"
   ]
  },
  {
   "cell_type": "code",
   "execution_count": 21,
   "metadata": {},
   "outputs": [],
   "source": [
    "series_in_cluster = pc.get_cluster_series(best_cluster_indeces[15])"
   ]
  },
  {
   "cell_type": "code",
   "execution_count": 26,
   "metadata": {},
   "outputs": [
    {
     "data": {
      "image/png": "[encoded data removed]",
      "text/plain": [
       "<Figure size 600x400 with 2 Axes>"
      ]
     },
     "metadata": {},
     "output_type": "display_data"
    }
   ],
   "source": [
    "new_series = []\n",
    "for series in series_in_cluster:\n",
    "    new_series.extend(get_interpolated_series(series))\n",
    "\n",
    "x = [t[0] for t in new_series]\n",
    "y = [t[1] for t in new_series]\n",
    "\n",
    "pitch = Pitch(pitch_type='statsbomb', line_zorder=2,\n",
    "              pitch_color='#22312b', line_color='#efefef', linewidth=1)\n",
    "\n",
    "fig, ax = pitch.draw(figsize=(6, 4))\n",
    "fig.set_facecolor('#22312b')\n",
    "bin_statistic = pitch.bin_statistic(x, y, statistic='count', bins=(120 // 4, 80 // 4))\n",
    "bin_statistic['statistic'] = gaussian_filter(bin_statistic['statistic'], 1)\n",
    "pcm = pitch.heatmap(bin_statistic, ax=ax, cmap='hot', edgecolors='#22312b')\n",
    "cbar = fig.colorbar(pcm, ax=ax, shrink=0.6)\n",
    "cbar.outline.set_edgecolor('#efefef')\n",
    "cbar.ax.yaxis.set_tick_params(color='#efefef')\n",
    "ticks = plt.setp(plt.getp(cbar.ax.axes, 'yticklabels'), color='#efefef')"
   ]
  },
  {
   "cell_type": "code",
   "execution_count": null,
   "metadata": {},
   "outputs": [],
   "source": []
  }
 ],
 "metadata": {
  "kernelspec": {
   "display_name": "env",
   "language": "python",
   "name": "python3"
  },
  "language_info": {
   "codemirror_mode": {
    "name": "ipython",
    "version": 3
   },
   "file_extension": ".py",
   "mimetype": "text/x-python",
   "name": "python",
   "nbconvert_exporter": "python",
   "pygments_lexer": "ipython3",
   "version": "3.9.13"
  }
 },
 "nbformat": 4,
 "nbformat_minor": 2
}
