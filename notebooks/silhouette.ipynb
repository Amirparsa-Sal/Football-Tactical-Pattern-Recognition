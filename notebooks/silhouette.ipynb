{
 "cells": [
  {
   "cell_type": "code",
   "execution_count": 49,
   "metadata": {},
   "outputs": [],
   "source": [
    "from ftpr.dataloader import load_phases\n",
    "import matplotlib.pyplot as plt\n",
    "from sklearn.metrics import silhouette_samples, silhouette_score\n",
    "import pandas as pd\n",
    "import pickle\n",
    "from ftpr.clustering import PhaseClustering\n",
    "import numpy as np\n",
    "from dtaidistance.dtw_ndim import distance_matrix_fast\n",
    "from tqdm import tqdm"
   ]
  },
  {
   "cell_type": "code",
   "execution_count": 2,
   "metadata": {},
   "outputs": [
    {
     "name": "stderr",
     "output_type": "stream",
     "text": [
      "/var/folders/tv/_qfcls8d76jd1sp6y_8qsd700000gn/T/ipykernel_2430/1670377221.py:2: DtypeWarning: Columns (38) have mixed types. Specify dtype option on import or set low_memory=False.\n",
      "  df = pd.read_csv(f'../data/team_phases/{team}.csv')\n"
     ]
    }
   ],
   "source": [
    "team = 'Manchester City'\n",
    "df = pd.read_csv(f'../data/team_phases/{team}.csv')\n",
    "phases = load_phases(df, filter_static_events=True, min_phase_length=3, n_jobs=5)"
   ]
  },
  {
   "cell_type": "markdown",
   "metadata": {},
   "source": [
    "# Kmeans"
   ]
  },
  {
   "cell_type": "code",
   "execution_count": 3,
   "metadata": {},
   "outputs": [],
   "source": [
    "series = []\n",
    "for phase in phases:\n",
    "\ts = phase.get_location_series(location_columns=['location'], remove_duplicates=True)\n",
    "\tseries.append(np.array(s))"
   ]
  },
  {
   "cell_type": "code",
   "execution_count": 9,
   "metadata": {},
   "outputs": [
    {
     "data": {
      "text/plain": [
       "(20, 20)"
      ]
     },
     "execution_count": 9,
     "metadata": {},
     "output_type": "execute_result"
    }
   ],
   "source": [
    "with open('elbow_method10-200-10.pkl', 'rb') as f:\n",
    "    clusterings_200, inertias_200 = pickle.load(f)\n",
    "\n",
    "len(clusterings_200), len(inertias_200)"
   ]
  },
  {
   "cell_type": "code",
   "execution_count": 10,
   "metadata": {},
   "outputs": [
    {
     "data": {
      "text/plain": [
       "(10, 30)"
      ]
     },
     "execution_count": 10,
     "metadata": {},
     "output_type": "execute_result"
    }
   ],
   "source": [
    "with open('elbow_method10-300-10.pkl', 'rb') as f:\n",
    "    clusterings, inertias = pickle.load(f)\n",
    "\n",
    "len(clusterings), len(inertias)"
   ]
  },
  {
   "cell_type": "code",
   "execution_count": 11,
   "metadata": {},
   "outputs": [
    {
     "data": {
      "text/plain": [
       "30"
      ]
     },
     "execution_count": 11,
     "metadata": {},
     "output_type": "execute_result"
    }
   ],
   "source": [
    "clusterings = clusterings_200 + clusterings\n",
    "len(clusterings)"
   ]
  },
  {
   "cell_type": "code",
   "execution_count": 12,
   "metadata": {},
   "outputs": [],
   "source": [
    "def clustering_dict_to_list(cls_pred):\n",
    "\ttotal_num = 0\n",
    "\tfor _, value in cls_pred.items():\n",
    "\t\ttotal_num += len(value)\n",
    "\tresult = [0] * total_num\n",
    "\tfor key, value in cls_pred.items():\n",
    "\t\tfor id in value:\n",
    "\t\t\tresult[id] = key\n",
    "\treturn result"
   ]
  },
  {
   "cell_type": "code",
   "execution_count": 14,
   "metadata": {},
   "outputs": [
    {
     "data": {
      "text/plain": [
       "[0.2053344527453105,\n",
       " 0.1778897528858257,\n",
       " 0.14809563899673786,\n",
       " 0.13639165190164973,\n",
       " 0.1314179365820751,\n",
       " 0.12677290138463285,\n",
       " 0.12895908899446673,\n",
       " 0.1239775044150228,\n",
       " 0.12493803605784054,\n",
       " 0.11799221363002264,\n",
       " 0.12196442059161944,\n",
       " 0.11953784594298272,\n",
       " 0.11771123400151857,\n",
       " 0.12005977744410927,\n",
       " 0.11944744735847543,\n",
       " 0.11632471223515561,\n",
       " 0.11674732889919252,\n",
       " 0.11824957110650067,\n",
       " 0.11574540666210141,\n",
       " 0.10781792274612392,\n",
       " 0.10993551792282029,\n",
       " 0.10883855057491862,\n",
       " 0.11304071124956656,\n",
       " 0.11273786459221279,\n",
       " 0.10628357842372131,\n",
       " 0.1083452932943045,\n",
       " 0.1066172117464599,\n",
       " 0.11053866646760845,\n",
       " 0.10467631413971457,\n",
       " 0.10220612253703816]"
      ]
     },
     "execution_count": 14,
     "metadata": {},
     "output_type": "execute_result"
    }
   ],
   "source": [
    "silhouettes = []\n",
    "distance = distance_matrix_fast(series)\n",
    "for clustering in clusterings:\n",
    "    cls_pred = clustering_dict_to_list(clustering.cluster_idx)\n",
    "    silhouettes.append(silhouette_score(distance, cls_pred, metric='precomputed'))\n",
    "    \n",
    "silhouettes"
   ]
  },
  {
   "cell_type": "code",
   "execution_count": 17,
   "metadata": {},
   "outputs": [
    {
     "data": {
      "text/plain": [
       "[<matplotlib.lines.Line2D at 0x30d79a790>]"
      ]
     },
     "execution_count": 17,
     "metadata": {},
     "output_type": "execute_result"
    },
    {
     "data": {
      "image/png": "[encoded data removed]",
      "text/plain": [
       "<Figure size 640x480 with 1 Axes>"
      ]
     },
     "metadata": {},
     "output_type": "display_data"
    }
   ],
   "source": [
    "x = list(range(10, 301, 10))\n",
    "plt.plot(x, silhouettes)"
   ]
  },
  {
   "cell_type": "markdown",
   "metadata": {},
   "source": [
    "# Agglomerative"
   ]
  },
  {
   "cell_type": "code",
   "execution_count": 53,
   "metadata": {},
   "outputs": [],
   "source": [
    "step = 5\n",
    "min_clusters = 5\n",
    "max_clusters = 300\n",
    "n_clusters = min_clusters"
   ]
  },
  {
   "cell_type": "code",
   "execution_count": 54,
   "metadata": {},
   "outputs": [],
   "source": [
    "distance = distance_matrix_fast(series)"
   ]
  },
  {
   "cell_type": "code",
   "execution_count": 55,
   "metadata": {},
   "outputs": [
    {
     "name": "stderr",
     "output_type": "stream",
     "text": [
      "100%|██████████| 60/60 [01:22<00:00,  1.38s/it]\n"
     ]
    },
    {
     "data": {
      "text/plain": [
       "[0.16013814917615984,\n",
       " 0.12496759469084961,\n",
       " 0.133680580922312,\n",
       " 0.1274567949841142,\n",
       " 0.11546137382783918,\n",
       " 0.11880853044778426,\n",
       " 0.12166301325143165,\n",
       " 0.09360355495591596,\n",
       " 0.09908842948053131,\n",
       " 0.10015040767230649,\n",
       " 0.09968234368980568,\n",
       " 0.1002573995886087,\n",
       " 0.09678097955759536,\n",
       " 0.0953352190531468,\n",
       " 0.09256420963650658,\n",
       " 0.09591613529129107,\n",
       " 0.09070698277109707,\n",
       " 0.09087596995021814,\n",
       " 0.09142534157062232,\n",
       " 0.09226862651355389,\n",
       " 0.09180045894924782,\n",
       " 0.09099307509366827,\n",
       " 0.09124111171326256,\n",
       " 0.09177253405606009,\n",
       " 0.09204767187694891,\n",
       " 0.09271807748867025,\n",
       " 0.09288993018796479,\n",
       " 0.08947997255802968,\n",
       " 0.0898611399228009,\n",
       " 0.08973734631095664,\n",
       " 0.09043902814007412,\n",
       " 0.08252607061083686,\n",
       " 0.08350426539135046,\n",
       " 0.08060295034442527,\n",
       " 0.08098116429897217,\n",
       " 0.0813103630860738,\n",
       " 0.08088731458230661,\n",
       " 0.07929330957085934,\n",
       " 0.07853807119080475,\n",
       " 0.07966979535123246,\n",
       " 0.07973177994375648,\n",
       " 0.08069280337228395,\n",
       " 0.08372160086592594,\n",
       " 0.08425575368547415,\n",
       " 0.0857626431239019,\n",
       " 0.08724481521226453,\n",
       " 0.08546087612865431,\n",
       " 0.08633390477112217,\n",
       " 0.08663932171925888,\n",
       " 0.08767669194542119,\n",
       " 0.08684775309957753,\n",
       " 0.08658449932529255,\n",
       " 0.08671368522036044,\n",
       " 0.08726256317684014,\n",
       " 0.08298304078463475,\n",
       " 0.08090009634173972,\n",
       " 0.08143206505540174,\n",
       " 0.08062652740706577,\n",
       " 0.08105256133194505,\n",
       " 0.07778420788259134]"
      ]
     },
     "execution_count": 55,
     "metadata": {},
     "output_type": "execute_result"
    }
   ],
   "source": [
    "silhouettes = []\n",
    "labels = []\n",
    "phase_clustering = PhaseClustering(phases)\n",
    "for n_clusters in tqdm(range(min_clusters, max_clusters + 1, step)):\n",
    "\tcls_pred = phase_clustering.agglomerative_fit(n_clusters, 'dtw')\n",
    "\tlabels.append(cls_pred)\n",
    "\tsilhouettes.append(silhouette_score(distance, cls_pred, metric='precomputed'))\n",
    "\n",
    "silhouettes"
   ]
  },
  {
   "cell_type": "code",
   "execution_count": 56,
   "metadata": {},
   "outputs": [
    {
     "data": {
      "text/plain": [
       "[<matplotlib.lines.Line2D at 0x31a05ebe0>]"
      ]
     },
     "execution_count": 56,
     "metadata": {},
     "output_type": "execute_result"
    },
    {
     "data": {
      "image/png": "[encoded data removed]",
      "text/plain": [
       "<Figure size 640x480 with 1 Axes>"
      ]
     },
     "metadata": {},
     "output_type": "display_data"
    }
   ],
   "source": [
    "x = list(range(5, 301, 5))\n",
    "plt.plot(x, silhouettes)"
   ]
  },
  {
   "cell_type": "code",
   "execution_count": 57,
   "metadata": {},
   "outputs": [],
   "source": [
    "cls_pred = phase_clustering.agglomerative_fit(2, 'dtw')\n",
    "result = silhouette_score(distance, cls_pred, metric='precomputed')"
   ]
  },
  {
   "cell_type": "code",
   "execution_count": 58,
   "metadata": {},
   "outputs": [
    {
     "data": {
      "text/plain": [
       "0.20456045238382958"
      ]
     },
     "execution_count": 58,
     "metadata": {},
     "output_type": "execute_result"
    }
   ],
   "source": [
    "result"
   ]
  },
  {
   "cell_type": "code",
   "execution_count": null,
   "metadata": {},
   "outputs": [],
   "source": []
  }
 ],
 "metadata": {
  "kernelspec": {
   "display_name": "env",
   "language": "python",
   "name": "python3"
  },
  "language_info": {
   "codemirror_mode": {
    "name": "ipython",
    "version": 3
   },
   "file_extension": ".py",
   "mimetype": "text/x-python",
   "name": "python",
   "nbconvert_exporter": "python",
   "pygments_lexer": "ipython3",
   "version": "3.9.13"
  }
 },
 "nbformat": 4,
 "nbformat_minor": 2
}
