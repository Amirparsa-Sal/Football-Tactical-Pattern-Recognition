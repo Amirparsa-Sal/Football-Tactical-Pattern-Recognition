{
 "cells": [
  {
   "cell_type": "code",
   "execution_count": 1,
   "metadata": {},
   "outputs": [],
   "source": [
    "import pandas as pd\n",
    "import matplotlib.pyplot as plt\n",
    "from ftpr.entities import Phase"
   ]
  },
  {
   "cell_type": "code",
   "execution_count": 2,
   "metadata": {},
   "outputs": [
    {
     "name": "stderr",
     "output_type": "stream",
     "text": [
      "/var/folders/tv/_qfcls8d76jd1sp6y_8qsd700000gn/T/ipykernel_32015/640734795.py:2: DtypeWarning: Columns (38) have mixed types. Specify dtype option on import or set low_memory=False.\n",
      "  df = pd.read_csv(f'../data/team_phases/{team_name}.csv')\n"
     ]
    },
    {
     "data": {
      "text/html": [
       "<div>\n",
       "<style scoped>\n",
       "    .dataframe tbody tr th:only-of-type {\n",
       "        vertical-align: middle;\n",
       "    }\n",
       "\n",
       "    .dataframe tbody tr th {\n",
       "        vertical-align: top;\n",
       "    }\n",
       "\n",
       "    .dataframe thead th {\n",
       "        text-align: right;\n",
       "    }\n",
       "</style>\n",
       "<table border=\"1\" class=\"dataframe\">\n",
       "  <thead>\n",
       "    <tr style=\"text-align: right;\">\n",
       "      <th></th>\n",
       "      <th>Unnamed: 0</th>\n",
       "      <th>carry_end_location</th>\n",
       "      <th>dribble_outcome</th>\n",
       "      <th>id</th>\n",
       "      <th>index</th>\n",
       "      <th>location</th>\n",
       "      <th>match_id</th>\n",
       "      <th>out</th>\n",
       "      <th>pass_angle</th>\n",
       "      <th>pass_assisted_shot_id</th>\n",
       "      <th>...</th>\n",
       "      <th>shot_statsbomb_xg</th>\n",
       "      <th>shot_type</th>\n",
       "      <th>tactics</th>\n",
       "      <th>team</th>\n",
       "      <th>team_id</th>\n",
       "      <th>timestamp</th>\n",
       "      <th>type</th>\n",
       "      <th>foul_won_penalty</th>\n",
       "      <th>pass_goal_assist</th>\n",
       "      <th>phase_id</th>\n",
       "    </tr>\n",
       "  </thead>\n",
       "  <tbody>\n",
       "    <tr>\n",
       "      <th>0</th>\n",
       "      <td>14</td>\n",
       "      <td>NaN</td>\n",
       "      <td>NaN</td>\n",
       "      <td>f5a217d2-0ba0-49bb-9854-0c26fe2060ae</td>\n",
       "      <td>28</td>\n",
       "      <td>[47.6, 44.4]</td>\n",
       "      <td>3754045</td>\n",
       "      <td>NaN</td>\n",
       "      <td>2.139644</td>\n",
       "      <td>NaN</td>\n",
       "      <td>...</td>\n",
       "      <td>NaN</td>\n",
       "      <td>NaN</td>\n",
       "      <td>NaN</td>\n",
       "      <td>Manchester City</td>\n",
       "      <td>36</td>\n",
       "      <td>00:00:17.793</td>\n",
       "      <td>Pass</td>\n",
       "      <td>NaN</td>\n",
       "      <td>NaN</td>\n",
       "      <td>0</td>\n",
       "    </tr>\n",
       "    <tr>\n",
       "      <th>1</th>\n",
       "      <td>919</td>\n",
       "      <td>NaN</td>\n",
       "      <td>NaN</td>\n",
       "      <td>60ad5e93-2411-4cb0-a750-988d0067ecfd</td>\n",
       "      <td>29</td>\n",
       "      <td>[43.7, 50.5]</td>\n",
       "      <td>3754045</td>\n",
       "      <td>NaN</td>\n",
       "      <td>NaN</td>\n",
       "      <td>NaN</td>\n",
       "      <td>...</td>\n",
       "      <td>NaN</td>\n",
       "      <td>NaN</td>\n",
       "      <td>NaN</td>\n",
       "      <td>Manchester City</td>\n",
       "      <td>36</td>\n",
       "      <td>00:00:18.826</td>\n",
       "      <td>Ball Receipt*</td>\n",
       "      <td>NaN</td>\n",
       "      <td>NaN</td>\n",
       "      <td>0</td>\n",
       "    </tr>\n",
       "    <tr>\n",
       "      <th>2</th>\n",
       "      <td>15</td>\n",
       "      <td>NaN</td>\n",
       "      <td>NaN</td>\n",
       "      <td>c13b671d-4bfa-4a85-8ba3-a7253ab0cc5a</td>\n",
       "      <td>30</td>\n",
       "      <td>[43.7, 50.5]</td>\n",
       "      <td>3754045</td>\n",
       "      <td>NaN</td>\n",
       "      <td>0.268366</td>\n",
       "      <td>NaN</td>\n",
       "      <td>...</td>\n",
       "      <td>NaN</td>\n",
       "      <td>NaN</td>\n",
       "      <td>NaN</td>\n",
       "      <td>Manchester City</td>\n",
       "      <td>36</td>\n",
       "      <td>00:00:18.828</td>\n",
       "      <td>Pass</td>\n",
       "      <td>NaN</td>\n",
       "      <td>NaN</td>\n",
       "      <td>0</td>\n",
       "    </tr>\n",
       "    <tr>\n",
       "      <th>3</th>\n",
       "      <td>920</td>\n",
       "      <td>NaN</td>\n",
       "      <td>NaN</td>\n",
       "      <td>94b03a78-6f28-4fc4-85ea-fb346e86dbf1</td>\n",
       "      <td>32</td>\n",
       "      <td>[67.7, 54.9]</td>\n",
       "      <td>3754045</td>\n",
       "      <td>NaN</td>\n",
       "      <td>NaN</td>\n",
       "      <td>NaN</td>\n",
       "      <td>...</td>\n",
       "      <td>NaN</td>\n",
       "      <td>NaN</td>\n",
       "      <td>NaN</td>\n",
       "      <td>Manchester City</td>\n",
       "      <td>36</td>\n",
       "      <td>00:00:21.201</td>\n",
       "      <td>Ball Receipt*</td>\n",
       "      <td>NaN</td>\n",
       "      <td>NaN</td>\n",
       "      <td>0</td>\n",
       "    </tr>\n",
       "    <tr>\n",
       "      <th>4</th>\n",
       "      <td>2909</td>\n",
       "      <td>NaN</td>\n",
       "      <td>NaN</td>\n",
       "      <td>85cbd8ed-5355-4684-a2f3-90741b2c2504</td>\n",
       "      <td>34</td>\n",
       "      <td>[50.1, 59.6]</td>\n",
       "      <td>3754045</td>\n",
       "      <td>NaN</td>\n",
       "      <td>NaN</td>\n",
       "      <td>NaN</td>\n",
       "      <td>...</td>\n",
       "      <td>NaN</td>\n",
       "      <td>NaN</td>\n",
       "      <td>NaN</td>\n",
       "      <td>Manchester City</td>\n",
       "      <td>36</td>\n",
       "      <td>00:00:22.792</td>\n",
       "      <td>Ball Recovery</td>\n",
       "      <td>NaN</td>\n",
       "      <td>NaN</td>\n",
       "      <td>1</td>\n",
       "    </tr>\n",
       "  </tbody>\n",
       "</table>\n",
       "<p>5 rows × 40 columns</p>\n",
       "</div>"
      ],
      "text/plain": [
       "   Unnamed: 0 carry_end_location dribble_outcome  \\\n",
       "0          14                NaN             NaN   \n",
       "1         919                NaN             NaN   \n",
       "2          15                NaN             NaN   \n",
       "3         920                NaN             NaN   \n",
       "4        2909                NaN             NaN   \n",
       "\n",
       "                                     id  index      location  match_id  out  \\\n",
       "0  f5a217d2-0ba0-49bb-9854-0c26fe2060ae     28  [47.6, 44.4]   3754045  NaN   \n",
       "1  60ad5e93-2411-4cb0-a750-988d0067ecfd     29  [43.7, 50.5]   3754045  NaN   \n",
       "2  c13b671d-4bfa-4a85-8ba3-a7253ab0cc5a     30  [43.7, 50.5]   3754045  NaN   \n",
       "3  94b03a78-6f28-4fc4-85ea-fb346e86dbf1     32  [67.7, 54.9]   3754045  NaN   \n",
       "4  85cbd8ed-5355-4684-a2f3-90741b2c2504     34  [50.1, 59.6]   3754045  NaN   \n",
       "\n",
       "   pass_angle pass_assisted_shot_id  ... shot_statsbomb_xg shot_type tactics  \\\n",
       "0    2.139644                   NaN  ...               NaN       NaN     NaN   \n",
       "1         NaN                   NaN  ...               NaN       NaN     NaN   \n",
       "2    0.268366                   NaN  ...               NaN       NaN     NaN   \n",
       "3         NaN                   NaN  ...               NaN       NaN     NaN   \n",
       "4         NaN                   NaN  ...               NaN       NaN     NaN   \n",
       "\n",
       "              team team_id     timestamp           type foul_won_penalty  \\\n",
       "0  Manchester City      36  00:00:17.793           Pass              NaN   \n",
       "1  Manchester City      36  00:00:18.826  Ball Receipt*              NaN   \n",
       "2  Manchester City      36  00:00:18.828           Pass              NaN   \n",
       "3  Manchester City      36  00:00:21.201  Ball Receipt*              NaN   \n",
       "4  Manchester City      36  00:00:22.792  Ball Recovery              NaN   \n",
       "\n",
       "  pass_goal_assist phase_id  \n",
       "0              NaN        0  \n",
       "1              NaN        0  \n",
       "2              NaN        0  \n",
       "3              NaN        0  \n",
       "4              NaN        1  \n",
       "\n",
       "[5 rows x 40 columns]"
      ]
     },
     "execution_count": 2,
     "metadata": {},
     "output_type": "execute_result"
    }
   ],
   "source": [
    "team_name = 'Manchester City'\n",
    "df = pd.read_csv(f'../data/team_phases/{team_name}.csv')\n",
    "df.head()"
   ]
  },
  {
   "cell_type": "code",
   "execution_count": 3,
   "metadata": {},
   "outputs": [
    {
     "data": {
      "text/plain": [
       "(135, 6190)"
      ]
     },
     "execution_count": 3,
     "metadata": {},
     "output_type": "execute_result"
    }
   ],
   "source": [
    "phase_id = 0\n",
    "lenghts = dict()\n",
    "current_len = 0\n",
    "max_len = -1\n",
    "max_phase_id = -1\n",
    "for i in range(len(df)):\n",
    "    if df.iloc[i]['phase_id'] == phase_id:\n",
    "        current_len += 1\n",
    "    else:\n",
    "        count = lenghts.get(current_len, 0) + 1\n",
    "        lenghts[current_len] = count\n",
    "        if current_len > max_len:\n",
    "            max_len = current_len\n",
    "            max_phase_id = phase_id\n",
    "        phase_id += 1\n",
    "        current_len = 1\n",
    "\n",
    "max_len, max_phase_id"
   ]
  },
  {
   "cell_type": "code",
   "execution_count": 4,
   "metadata": {},
   "outputs": [
    {
     "data": {
      "text/plain": [
       "<BarContainer object of 25 artists>"
      ]
     },
     "execution_count": 4,
     "metadata": {},
     "output_type": "execute_result"
    },
    {
     "data": {
      "image/png": "[encoded data removed]",
      "text/plain": [
       "<Figure size 640x480 with 1 Axes>"
      ]
     },
     "metadata": {},
     "output_type": "display_data"
    }
   ],
   "source": [
    "compact_limit = 25\n",
    "\n",
    "xs = [i for i in range(1, compact_limit + 1)]\n",
    "ys = [lenghts[i] for i in range(1, compact_limit)]\n",
    "more25_count = 0\n",
    "for i in range(compact_limit, max_len + 1):\n",
    "    more25_count += lenghts.get(i, 0)\n",
    "ys.append(more25_count)\n",
    "plt.bar(xs, ys)"
   ]
  },
  {
   "cell_type": "code",
   "execution_count": 5,
   "metadata": {},
   "outputs": [],
   "source": [
    "phase_id = 0\n",
    "lenghts = dict()\n",
    "start_index = 0\n",
    "current_index = 1\n",
    "while start_index < len(df):\n",
    "    if current_index < len(df) and df.iloc[current_index]['phase_id'] == phase_id:\n",
    "        current_index += 1\n",
    "    else:\n",
    "        phase = Phase(df[start_index:current_index])\n",
    "        start_index = current_index\n",
    "        current_index = start_index + 1\n",
    "        phase = phase.filter_static_events()\n",
    "        count = lenghts.get(len(phase), 0) + 1\n",
    "        lenghts[len(phase)] = count\n",
    "        phase_id += 1"
   ]
  },
  {
   "cell_type": "code",
   "execution_count": 6,
   "metadata": {},
   "outputs": [
    {
     "data": {
      "text/plain": [
       "<BarContainer object of 25 artists>"
      ]
     },
     "execution_count": 6,
     "metadata": {},
     "output_type": "execute_result"
    },
    {
     "data": {
      "image/png": "[encoded data removed]",
      "text/plain": [
       "<Figure size 640x480 with 1 Axes>"
      ]
     },
     "metadata": {},
     "output_type": "display_data"
    }
   ],
   "source": [
    "compact_limit = 25\n",
    "\n",
    "xs = [i for i in range(1, compact_limit + 1)]\n",
    "ys = [lenghts[i] for i in range(1, compact_limit)]\n",
    "more25_count = 0\n",
    "for i in range(compact_limit, max_len + 1):\n",
    "    more25_count += lenghts.get(i, 0)\n",
    "ys.append(more25_count)\n",
    "plt.bar(xs, ys)"
   ]
  },
  {
   "cell_type": "code",
   "execution_count": 7,
   "metadata": {},
   "outputs": [],
   "source": [
    "def get_event_counts(df, event_len, index):\n",
    "    if index >= event_len:\n",
    "        raise ValueError('Index must be less than event length!')\n",
    "    events = dict()\n",
    "    current_len = 0\n",
    "    phase_id = 0\n",
    "    for i in range(len(df)):\n",
    "        if df.iloc[i]['phase_id'] == phase_id:\n",
    "            current_len += 1\n",
    "        else:\n",
    "            if current_len == event_len:\n",
    "                event_type = df.iloc[i - event_len + index]['type']\n",
    "                events[event_type] = events.get(event_type, 0) + 1\n",
    "            phase_id += 1\n",
    "            current_len = 1\n",
    "    return events"
   ]
  },
  {
   "cell_type": "code",
   "execution_count": 8,
   "metadata": {},
   "outputs": [
    {
     "data": {
      "text/plain": [
       "{'Clearance': 655,\n",
       " 'Block': 352,\n",
       " 'Interception': 182,\n",
       " 'Pass': 380,\n",
       " 'Ball Recovery': 101,\n",
       " 'Goal Keeper': 81,\n",
       " 'Shot': 43,\n",
       " 'Carry': 42,\n",
       " 'Ball Receipt*': 3,\n",
       " 'Dribble': 1}"
      ]
     },
     "execution_count": 8,
     "metadata": {},
     "output_type": "execute_result"
    }
   ],
   "source": [
    "get_event_counts(df, 1, 0)"
   ]
  },
  {
   "cell_type": "code",
   "execution_count": 9,
   "metadata": {},
   "outputs": [
    {
     "data": {
      "text/plain": [
       "{'Interception': 47,\n",
       " 'Pass': 774,\n",
       " 'Clearance': 55,\n",
       " 'Ball Recovery': 240,\n",
       " 'Carry': 14,\n",
       " 'Block': 83,\n",
       " 'Goal Keeper': 52}"
      ]
     },
     "execution_count": 9,
     "metadata": {},
     "output_type": "execute_result"
    }
   ],
   "source": [
    "get_event_counts(df, 2, 0)"
   ]
  },
  {
   "cell_type": "code",
   "execution_count": 10,
   "metadata": {},
   "outputs": [
    {
     "data": {
      "text/plain": [
       "{'Pass': 341,\n",
       " 'Ball Recovery': 155,\n",
       " 'Interception': 40,\n",
       " 'Goal Keeper': 55,\n",
       " 'Block': 31,\n",
       " 'Clearance': 48,\n",
       " 'Carry': 28,\n",
       " 'Ball Receipt*': 1,\n",
       " 'Dribble': 1}"
      ]
     },
     "execution_count": 10,
     "metadata": {},
     "output_type": "execute_result"
    }
   ],
   "source": [
    "get_event_counts(df, 3, 0)"
   ]
  },
  {
   "cell_type": "code",
   "execution_count": 11,
   "metadata": {},
   "outputs": [
    {
     "data": {
      "text/plain": [
       "{'Pass': 199,\n",
       " 'Ball Recovery': 201,\n",
       " 'Interception': 35,\n",
       " 'Goal Keeper': 26,\n",
       " 'Dribble': 1,\n",
       " 'Block': 18,\n",
       " 'Clearance': 19,\n",
       " 'Carry': 19,\n",
       " 'Shot': 1}"
      ]
     },
     "execution_count": 11,
     "metadata": {},
     "output_type": "execute_result"
    }
   ],
   "source": [
    "get_event_counts(df, 4, 0)"
   ]
  },
  {
   "cell_type": "code",
   "execution_count": null,
   "metadata": {},
   "outputs": [],
   "source": []
  }
 ],
 "metadata": {
  "kernelspec": {
   "display_name": "env",
   "language": "python",
   "name": "python3"
  },
  "language_info": {
   "codemirror_mode": {
    "name": "ipython",
    "version": 3
   },
   "file_extension": ".py",
   "mimetype": "text/x-python",
   "name": "python",
   "nbconvert_exporter": "python",
   "pygments_lexer": "ipython3",
   "version": "3.9.13"
  }
 },
 "nbformat": 4,
 "nbformat_minor": 2
}
